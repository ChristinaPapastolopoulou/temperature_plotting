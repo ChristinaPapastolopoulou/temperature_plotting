{
 "cells": [
  {
   "cell_type": "code",
   "execution_count": 1,
   "id": "86792d03-1039-4087-945c-e18421e8c9f9",
   "metadata": {},
   "outputs": [],
   "source": [
    "import pytest\n",
    "import os\n",
    "import temperature_plotting as tpl"
   ]
  },
  {
   "cell_type": "code",
   "execution_count": 2,
   "id": "fd844be8-df37-44dc-9cbf-ab824e24b4d5",
   "metadata": {},
   "outputs": [
    {
     "ename": "AssertionError",
     "evalue": "",
     "output_type": "error",
     "traceback": [
      "\u001b[0;31m---------------------------------------------------------------------------\u001b[0m",
      "\u001b[0;31mAssertionError\u001b[0m                            Traceback (most recent call last)",
      "Cell \u001b[0;32mIn[2], line 21\u001b[0m\n\u001b[1;32m     18\u001b[0m     calc \u001b[38;5;241m=\u001b[39m pytest\u001b[38;5;241m.\u001b[39mcompute_mean([]) \u001b[38;5;66;03m# Not recommended\u001b[39;00m\n\u001b[1;32m     19\u001b[0m     \u001b[38;5;28;01massert\u001b[39;00m calc \u001b[38;5;241m==\u001b[39m \u001b[38;5;28;01mNone\u001b[39;00m\n\u001b[0;32m---> 21\u001b[0m \u001b[43mtest_compute_mean\u001b[49m\u001b[43m(\u001b[49m\u001b[43m)\u001b[49m\n",
      "Cell \u001b[0;32mIn[2], line 3\u001b[0m, in \u001b[0;36mtest_compute_mean\u001b[0;34m()\u001b[0m\n\u001b[1;32m      1\u001b[0m \u001b[38;5;28;01mdef\u001b[39;00m \u001b[38;5;21mtest_compute_mean\u001b[39m():\n\u001b[1;32m      2\u001b[0m     calc \u001b[38;5;241m=\u001b[39m tpl\u001b[38;5;241m.\u001b[39mcompute_mean([\u001b[38;5;241m0\u001b[39m,\u001b[38;5;241m10\u001b[39m,\u001b[38;5;241m20\u001b[39m])\n\u001b[0;32m----> 3\u001b[0m     \u001b[38;5;28;01massert\u001b[39;00m calc \u001b[38;5;241m==\u001b[39m \u001b[38;5;241m10\u001b[39m\n\u001b[1;32m      4\u001b[0m     \u001b[38;5;28;01massert\u001b[39;00m \u001b[38;5;28mtype\u001b[39m(calc) \u001b[38;5;241m==\u001b[39m \u001b[38;5;28mfloat\u001b[39m\n\u001b[1;32m      6\u001b[0m     calc \u001b[38;5;241m=\u001b[39m tpl\u001b[38;5;241m.\u001b[39mcompute_mean([\u001b[38;5;241m-\u001b[39m\u001b[38;5;241m10\u001b[39m, \u001b[38;5;241m10\u001b[39m])\n",
      "\u001b[0;31mAssertionError\u001b[0m: "
     ]
    }
   ],
   "source": [
    "def test_compute_mean():\n",
    "    calc = tpl.compute_mean([0,10,20])\n",
    "    assert calc == 10\n",
    "    assert type(calc) == float\n",
    "    \n",
    "    calc = tpl.compute_mean([-10, 10])\n",
    "    assert calc == 0\n",
    "    \n",
    "    calc = tpl.compute_mean([0,10,0]) #define how many degits otherwise it will complain\n",
    "    assert round(calc,4) == 3.3333 , \"Check that average is correct\"\n",
    "    \n",
    "    with pytest.raises(TypeError, \"expected type error\"):\n",
    "        calc = tpl.compute_mean([\"a\", \"b\", \"c\"])  #it will go wrong\n",
    "        \n",
    "#    with pytest.raises(ValueError):\n",
    "#        calc = tpl.compute_mean([\"a\", \"b\", \"c\"])  #it will go wrong\n",
    "\n",
    "    calc = pytest.compute_mean([]) # Not recommended\n",
    "    assert calc == None\n",
    "    \n",
    "test_compute_mean()"
   ]
  },
  {
   "cell_type": "code",
   "execution_count": null,
   "id": "e3a87c1b-ab2b-4e57-91f5-d69b51f4de63",
   "metadata": {},
   "outputs": [],
   "source": [
    "def create_name(num):\n",
    "    name = f\"plot_{str(num)}.png\"\n",
    "    return name"
   ]
  },
  {
   "cell_type": "code",
   "execution_count": null,
   "id": "5d1fd92f-177c-486a-983b-25ad731c2d5f",
   "metadata": {},
   "outputs": [],
   "source": [
    "def test_create_name():\n",
    "    name = tpl.create_name(4)\n",
    "    assert name == \"plot_4.png\"\n",
    "    \n",
    "     with pytest.raises(TypeError, \"There is no input!\"):\n",
    "    name = tpl.create_name(None)\n",
    "    assert name == None\n",
    "    \n",
    "test_create_name()"
   ]
  },
  {
   "cell_type": "code",
   "execution_count": null,
   "id": "968b6323-7a8e-41c1-bb5c-96deb8b7194f",
   "metadata": {},
   "outputs": [],
   "source": [
    "#Integration test - usually in different files\n",
    "def test_main()\n",
    "\n",
    "    tpl.main()\n",
    "    assert os.path.exists(\"plot_25.png\")\n"
   ]
  }
 ],
 "metadata": {
  "kernelspec": {
   "display_name": "Python 3 (ipykernel)",
   "language": "python",
   "name": "python3"
  },
  "language_info": {
   "codemirror_mode": {
    "name": "ipython",
    "version": 3
   },
   "file_extension": ".py",
   "mimetype": "text/x-python",
   "name": "python",
   "nbconvert_exporter": "python",
   "pygments_lexer": "ipython3",
   "version": "3.10.8"
  }
 },
 "nbformat": 4,
 "nbformat_minor": 5
}
